{
  "cells": [
    {
      "cell_type": "markdown",
      "metadata": {
        "id": "view-in-github",
        "colab_type": "text"
      },
      "source": [
        "<a href=\"https://colab.research.google.com/github/JaneOrih/data-science-journey/blob/main/Jane_Feature_Engineering_and_Cleaning.ipynb\" target=\"_parent\"><img src=\"https://colab.research.google.com/assets/colab-badge.svg\" alt=\"Open In Colab\"/></a>"
      ]
    },
    {
      "cell_type": "code",
      "execution_count": null,
      "id": "8f1ff0a0",
      "metadata": {
        "id": "8f1ff0a0"
      },
      "outputs": [],
      "source": [
        "import pandas as pd\n",
        "import numpy as np\n",
        "import matplotlib.pyplot as plt\n",
        "import seaborn as sns"
      ]
    },
    {
      "cell_type": "code",
      "execution_count": null,
      "id": "165441fe",
      "metadata": {
        "id": "165441fe"
      },
      "outputs": [],
      "source": [
        "df= pd.read_csv('C:/Users/Admin/Downloads/preprocessed-data.csv')"
      ]
    },
    {
      "cell_type": "code",
      "execution_count": null,
      "id": "4ed8e57a",
      "metadata": {
        "id": "4ed8e57a",
        "outputId": "cfaeca38-4577-4627-df89-551162ff7e6a"
      },
      "outputs": [
        {
          "name": "stdout",
          "output_type": "stream",
          "text": [
            "<class 'pandas.core.frame.DataFrame'>\n",
            "RangeIndex: 64221 entries, 0 to 64220\n",
            "Data columns (total 18 columns):\n",
            " #   Column            Non-Null Count  Dtype         \n",
            "---  ------            --------------  -----         \n",
            " 0   date              64221 non-null  datetime64[ns]\n",
            " 1   State             64221 non-null  object        \n",
            " 2   Local_Government  64221 non-null  object        \n",
            " 3   Market_Name       64221 non-null  object        \n",
            " 4   latitude          64221 non-null  float64       \n",
            " 5   longitude         64221 non-null  float64       \n",
            " 6   category          64221 non-null  object        \n",
            " 7   commodity         64221 non-null  object        \n",
            " 8   unit              64221 non-null  object        \n",
            " 9   priceflag         64221 non-null  object        \n",
            " 10  pricetype         64221 non-null  object        \n",
            " 11  currency          64221 non-null  object        \n",
            " 12  price             64221 non-null  float64       \n",
            " 13  usdprice          64221 non-null  float64       \n",
            " 14  year              64221 non-null  int64         \n",
            " 15  month             64221 non-null  object        \n",
            " 16  season            64221 non-null  object        \n",
            " 17  Inflation         64221 non-null  float64       \n",
            "dtypes: datetime64[ns](1), float64(5), int64(1), object(11)\n",
            "memory usage: 8.8+ MB\n"
          ]
        }
      ],
      "source": [
        "df['date']=pd.to_datetime(df['date'])\n",
        "df.info()"
      ]
    },
    {
      "cell_type": "markdown",
      "id": "de344614",
      "metadata": {
        "id": "de344614"
      },
      "source": [
        "# Treating Outlier by price of each Commodity"
      ]
    },
    {
      "cell_type": "code",
      "execution_count": null,
      "id": "7e53ff4b",
      "metadata": {
        "id": "7e53ff4b",
        "outputId": "805d36c4-2685-4c5b-d62a-96fa917be420"
      },
      "outputs": [
        {
          "data": {
            "text/plain": [
              "commodity                    unit      \n",
              "Bananas                      1KG              16.263438\n",
              "Beans (niebe)                1KG             252.294500\n",
              "Beans (red)                  1KG              38.065116\n",
              "Beans (white)                1KG              34.919735\n",
              "Bread                        Unit            264.564173\n",
              "Cassava meal (gari, yellow)  1KG             229.160238\n",
              "Cowpeas                      1KG              27.399075\n",
              "Cowpeas (brown)              1KG             313.359220\n",
              "Cowpeas (white)              1KG             284.857645\n",
              "Eggs                         30 pcs         1217.207886\n",
              "Fish                         1KG              30.154625\n",
              "Fuel (diesel)                L               281.256098\n",
              "Fuel (petrol-gasoline)       L               153.291524\n",
              "Gari (white)                 1KG             195.490945\n",
              "Groundnuts                   1KG              41.877470\n",
              "Groundnuts (shelled)         1KG             368.037265\n",
              "Maize                        1KG             172.553387\n",
              "Maize (white)                1KG             134.129529\n",
              "Maize (yellow)               1KG             148.132759\n",
              "Maize flour                  1KG              20.255217\n",
              "Meat (beef)                  1KG            1272.474898\n",
              "Meat (goat)                  1KG            1326.903964\n",
              "Milk                         1KG            3898.047521\n",
              "Millet                       1KG             114.332043\n",
              "Oil (palm)                   1KG             659.276038\n",
              "                             L              1523.341485\n",
              "Oil (vegetable)              1KG             706.030342\n",
              "Onions                       1KG             127.823452\n",
              "Oranges                      1KG             259.250338\n",
              "Rice (imported)              1KG             303.897826\n",
              "Rice (local)                 1KG             212.679791\n",
              "Rice (milled, local)         1KG             405.409490\n",
              "Salt                         1KG             776.500096\n",
              "Sorghum                      1KG              60.229999\n",
              "Sorghum (brown)              1KG             152.640266\n",
              "Sorghum (white)              1KG             144.036904\n",
              "Spinach                      1KG             216.523489\n",
              "Sugar                        1KG              50.627851\n",
              "Tomatoes                     1KG              14.871695\n",
              "Watermelons                  1KG              12.956072\n",
              "Wheat                        1KG             193.866610\n",
              "Yam                          100 Tubers    52226.740047\n",
              "                             1KG             158.351906\n",
              "Yam (Abuja)                  100 Tubers    28767.989091\n",
              "                             1KG             228.734381\n",
              "Name: price, dtype: float64"
            ]
          },
          "execution_count": 4,
          "metadata": {},
          "output_type": "execute_result"
        }
      ],
      "source": [
        "# Average price based on commodity and unit of food items\n",
        "df.groupby(['commodity', 'unit'])['price'].mean()"
      ]
    },
    {
      "cell_type": "code",
      "execution_count": null,
      "id": "55b14f66",
      "metadata": {
        "id": "55b14f66"
      },
      "outputs": [],
      "source": [
        "# Grouping the dataframe into different dataframes based on commodity and unit\n",
        "\n",
        "lst_var_df=[]\n",
        "\n",
        "for variables in df['commodity'].unique():\n",
        "    if len(df[df['commodity']== variables]['unit'].unique()) ==1:\n",
        "        var_df= df[df['commodity']== variables]\n",
        "        lst_var_df.append(var_df)\n",
        "    else:\n",
        "        var_df= df[df['commodity']== variables]\n",
        "        for units in var_df['unit'].unique():\n",
        "            var_dfs=var_df[var_df['unit']==units]\n",
        "            lst_var_df.append(var_dfs)\n",
        ""
      ]
    },
    {
      "cell_type": "code",
      "execution_count": null,
      "id": "a4bcd744",
      "metadata": {
        "id": "a4bcd744"
      },
      "outputs": [],
      "source": [
        "# outlier removal from each dataframe\n",
        "\n",
        "no_outlier_df= []\n",
        "\n",
        "for data in lst_var_df:\n",
        "    df_sub= pd.DataFrame(data['price'])\n",
        "    Q1= df_sub.quantile(0.25)\n",
        "    Q3= df_sub.quantile(0.75)\n",
        "    IQR = Q3 - Q1\n",
        "    cleaned_df = df_sub[~((df_sub < (Q1 - 1.5 * IQR)) |(df_sub > (Q3 + 1.5 * IQR))).any(axis=1)]\n",
        "    no_outlier_df.append(cleaned_df)"
      ]
    },
    {
      "cell_type": "code",
      "execution_count": null,
      "id": "989021c1",
      "metadata": {
        "id": "989021c1"
      },
      "outputs": [],
      "source": [
        "#collecting all the index of leftover rows after outliers are removed\n",
        "\n",
        "no_outlier_indices=[]\n",
        "for x in range(len(no_outlier_df)):\n",
        "    index_list=no_outlier_df[x].index.values.tolist()\n",
        "    no_outlier_indices.append(index_list)\n"
      ]
    },
    {
      "cell_type": "code",
      "execution_count": null,
      "id": "48ffbf35",
      "metadata": {
        "id": "48ffbf35",
        "outputId": "af5c2b60-59fb-4605-a3d4-cf2061bab399"
      },
      "outputs": [
        {
          "data": {
            "text/plain": [
              "61869"
            ]
          },
          "execution_count": 8,
          "metadata": {},
          "output_type": "execute_result"
        }
      ],
      "source": [
        "# proper list of all index needed\n",
        "\n",
        "indices=[]\n",
        "for i in range(len(no_outlier_indices)):\n",
        "    indices += no_outlier_indices[i]\n",
        "\n",
        "len(indices)\n"
      ]
    },
    {
      "cell_type": "code",
      "execution_count": null,
      "id": "a2c8a558",
      "metadata": {
        "id": "a2c8a558",
        "outputId": "0f7bea38-7514-4e00-ec91-5a34ecd53e25"
      },
      "outputs": [
        {
          "data": {
            "text/plain": [
              "64221"
            ]
          },
          "execution_count": 9,
          "metadata": {},
          "output_type": "execute_result"
        }
      ],
      "source": [
        "len(df)"
      ]
    },
    {
      "cell_type": "markdown",
      "id": "6db5e3c3",
      "metadata": {
        "id": "6db5e3c3"
      },
      "source": [
        "After removing all ouliers, 61869 rows were remaining, out of 64221 rows"
      ]
    },
    {
      "cell_type": "code",
      "execution_count": null,
      "id": "ec47ce5b",
      "metadata": {
        "id": "ec47ce5b"
      },
      "outputs": [],
      "source": [
        "# new dataframe\n",
        "no_outlier_df= df.iloc[indices]"
      ]
    }
  ],
  "metadata": {
    "kernelspec": {
      "display_name": "Python 3 (ipykernel)",
      "language": "python",
      "name": "python3"
    },
    "language_info": {
      "codemirror_mode": {
        "name": "ipython",
        "version": 3
      },
      "file_extension": ".py",
      "mimetype": "text/x-python",
      "name": "python",
      "nbconvert_exporter": "python",
      "pygments_lexer": "ipython3",
      "version": "3.11.4"
    },
    "colab": {
      "provenance": [],
      "toc_visible": true,
      "include_colab_link": true
    }
  },
  "nbformat": 4,
  "nbformat_minor": 5
}